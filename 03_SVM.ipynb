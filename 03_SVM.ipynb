{
 "cells": [
  {
   "cell_type": "markdown",
   "metadata": {},
   "source": [
    "## Support Vector Machines\n",
    "+ 회귀, 분류, 이상치 탐지 등에 사용되는 지도학습 방법\n",
    "+ 서포트 벡터 : 클래스 사이의 경계에 위치한 데이터 포인트\n",
    "+ 각 서포트 벡터가 클래스 사이의 결정 경계를 구분하는 데 얼마나 중요한지를 학습하는 방법이다.  \n",
    "    => 마진(각 서포트 벡터 사이의 거리)이 가장 큰 방향으로 학습  \n",
    "    => 서포트 벡터까지의 거리와 서포트 벡터의 중요도를 기반으로 예측"
   ]
  },
  {
   "cell_type": "code",
   "execution_count": 61,
   "metadata": {},
   "outputs": [],
   "source": [
    "import multiprocessing\n",
    "import pandas as pd\n",
    "import numpy as np\n",
    "import matplotlib.pyplot as plt\n",
    "plt.style.use('ggplot')"
   ]
  },
  {
   "cell_type": "code",
   "execution_count": 62,
   "metadata": {},
   "outputs": [],
   "source": [
    "from sklearn.svm import SVR, SVC  #support vector regressor/classifier\n",
    "from sklearn.datasets import load_boston, load_diabetes  #회귀\n",
    "from sklearn.datasets import load_breast_cancer, load_iris, load_wine  #분류\n",
    "from sklearn.pipeline import make_pipeline, Pipeline\n",
    "from sklearn.model_selection import train_test_split, cross_validate, GridSearchCV\n",
    "from sklearn.preprocessing import StandardScaler, MinMaxScaler\n",
    "from sklearn.manifold import TSNE  #시각화 목적"
   ]
  },
  {
   "cell_type": "markdown",
   "metadata": {},
   "source": [
    "## SVM을 이용한 회귀모델(SVR)"
   ]
  },
  {
   "cell_type": "code",
   "execution_count": 63,
   "metadata": {},
   "outputs": [
    {
     "name": "stdout",
     "output_type": "stream",
     "text": [
      "학습데이터 점수 : 0.17964669464989047\n",
      "평가데이터 점수 : 0.2749755336369746\n"
     ]
    },
    {
     "name": "stderr",
     "output_type": "stream",
     "text": [
      "C:\\Users\\yeonok\\AppData\\Local\\Packages\\PythonSoftwareFoundation.Python.3.9_qbz5n2kfra8p0\\LocalCache\\local-packages\\Python39\\site-packages\\sklearn\\utils\\deprecation.py:87: FutureWarning: Function load_boston is deprecated; `load_boston` is deprecated in 1.0 and will be removed in 1.2.\n",
      "\n",
      "    The Boston housing prices dataset has an ethical problem. You can refer to\n",
      "    the documentation of this function for further details.\n",
      "\n",
      "    The scikit-learn maintainers therefore strongly discourage the use of this\n",
      "    dataset unless the purpose of the code is to study and educate about\n",
      "    ethical issues in data science and machine learning.\n",
      "\n",
      "    In this special case, you can fetch the dataset from the original\n",
      "    source::\n",
      "\n",
      "        import pandas as pd\n",
      "        import numpy as np\n",
      "\n",
      "\n",
      "        data_url = \"http://lib.stat.cmu.edu/datasets/boston\"\n",
      "        raw_df = pd.read_csv(data_url, sep=\"\\s+\", skiprows=22, header=None)\n",
      "        data = np.hstack([raw_df.values[::2, :], raw_df.values[1::2, :2]])\n",
      "        target = raw_df.values[1::2, 2]\n",
      "\n",
      "    Alternative datasets include the California housing dataset (i.e.\n",
      "    :func:`~sklearn.datasets.fetch_california_housing`) and the Ames housing\n",
      "    dataset. You can load the datasets as follows::\n",
      "\n",
      "        from sklearn.datasets import fetch_california_housing\n",
      "        housing = fetch_california_housing()\n",
      "\n",
      "    for the California housing dataset and::\n",
      "\n",
      "        from sklearn.datasets import fetch_openml\n",
      "        housing = fetch_openml(name=\"house_prices\", as_frame=True)\n",
      "\n",
      "    for the Ames housing dataset.\n",
      "    \n",
      "  warnings.warn(msg, category=FutureWarning)\n"
     ]
    }
   ],
   "source": [
    "X, y = load_boston(return_X_y=True)\n",
    "\n",
    "X_train, X_test, y_train, y_test = train_test_split(X, y, test_size=0.2, random_state=2)\n",
    "\n",
    "model = SVR()\n",
    "\n",
    "model.fit(X_train, y_train)\n",
    "\n",
    "print(f'학습데이터 점수 : {model.score(X_train, y_train)}')\n",
    "print(f'평가데이터 점수 : {model.score(X_test, y_test)}')"
   ]
  },
  {
   "cell_type": "code",
   "execution_count": 64,
   "metadata": {},
   "outputs": [
    {
     "name": "stdout",
     "output_type": "stream",
     "text": [
      "학습데이터 점수 : 0.1864286814438485\n",
      "평가데이터 점수 : 0.08868974173233501\n"
     ]
    }
   ],
   "source": [
    "X, y = load_diabetes(return_X_y=True)\n",
    "\n",
    "X_train, X_test, y_train, y_test = train_test_split(X, y, test_size=0.2, random_state=2)\n",
    "\n",
    "model = SVR()\n",
    "\n",
    "model.fit(X_train, y_train)\n",
    "\n",
    "print(f'학습데이터 점수 : {model.score(X_train, y_train)}')\n",
    "print(f'평가데이터 점수 : {model.score(X_test, y_test)}')"
   ]
  },
  {
   "cell_type": "markdown",
   "metadata": {},
   "source": [
    "## SVM을 이용한 분류 모델(SVC)"
   ]
  },
  {
   "cell_type": "code",
   "execution_count": 65,
   "metadata": {},
   "outputs": [
    {
     "name": "stdout",
     "output_type": "stream",
     "text": [
      "학습데이터 점수 : 0.9252747252747253\n",
      "평가데이터 점수 : 0.9035087719298246\n"
     ]
    }
   ],
   "source": [
    "X, y = load_breast_cancer(return_X_y=True)\n",
    "\n",
    "X_train, X_test, y_train, y_test = train_test_split(X, y, test_size=0.2, random_state=2)\n",
    "\n",
    "model = SVC()\n",
    "\n",
    "model.fit(X_train, y_train)\n",
    "\n",
    "print(f'학습데이터 점수 : {model.score(X_train, y_train)}')\n",
    "print(f'평가데이터 점수 : {model.score(X_test, y_test)}')"
   ]
  },
  {
   "cell_type": "code",
   "execution_count": 66,
   "metadata": {},
   "outputs": [
    {
     "name": "stdout",
     "output_type": "stream",
     "text": [
      "학습데이터 점수 : 0.975\n",
      "평가데이터 점수 : 0.9666666666666667\n"
     ]
    }
   ],
   "source": [
    "X, y = load_iris(return_X_y=True)\n",
    "\n",
    "X_train, X_test, y_train, y_test = train_test_split(X, y, test_size=0.2, random_state=2)\n",
    "\n",
    "model = SVC()\n",
    "\n",
    "model.fit(X_train, y_train)\n",
    "\n",
    "print(f'학습데이터 점수 : {model.score(X_train, y_train)}')\n",
    "print(f'평가데이터 점수 : {model.score(X_test, y_test)}')"
   ]
  },
  {
   "cell_type": "code",
   "execution_count": 67,
   "metadata": {},
   "outputs": [
    {
     "name": "stdout",
     "output_type": "stream",
     "text": [
      "학습데이터 점수 : 0.676056338028169\n",
      "평가데이터 점수 : 0.6944444444444444\n"
     ]
    }
   ],
   "source": [
    "X, y = load_wine(return_X_y=True)\n",
    "\n",
    "X_train, X_test, y_train, y_test = train_test_split(X, y, test_size=0.2, random_state=2)\n",
    "\n",
    "model = SVC()\n",
    "\n",
    "model.fit(X_train, y_train)\n",
    "\n",
    "print(f'학습데이터 점수 : {model.score(X_train, y_train)}')\n",
    "print(f'평가데이터 점수 : {model.score(X_test, y_test)}')"
   ]
  },
  {
   "cell_type": "markdown",
   "metadata": {},
   "source": [
    "## 커널 기법\n",
    "+ 입력 데이터를 고차원 공간에 사상해서 비선형 특징을 학습할 수 있도록 확장하는 방법\n",
    "+ scikit-learn에서는 Linear, Polynominal, RBF(Radial Basis Function) 등 다양한 커널 기법을 지원"
   ]
  },
  {
   "cell_type": "code",
   "execution_count": 109,
   "metadata": {},
   "outputs": [
    {
     "name": "stderr",
     "output_type": "stream",
     "text": [
      "C:\\Users\\yeonok\\AppData\\Local\\Packages\\PythonSoftwareFoundation.Python.3.9_qbz5n2kfra8p0\\LocalCache\\local-packages\\Python39\\site-packages\\sklearn\\utils\\deprecation.py:87: FutureWarning: Function load_boston is deprecated; `load_boston` is deprecated in 1.0 and will be removed in 1.2.\n",
      "\n",
      "    The Boston housing prices dataset has an ethical problem. You can refer to\n",
      "    the documentation of this function for further details.\n",
      "\n",
      "    The scikit-learn maintainers therefore strongly discourage the use of this\n",
      "    dataset unless the purpose of the code is to study and educate about\n",
      "    ethical issues in data science and machine learning.\n",
      "\n",
      "    In this special case, you can fetch the dataset from the original\n",
      "    source::\n",
      "\n",
      "        import pandas as pd\n",
      "        import numpy as np\n",
      "\n",
      "\n",
      "        data_url = \"http://lib.stat.cmu.edu/datasets/boston\"\n",
      "        raw_df = pd.read_csv(data_url, sep=\"\\s+\", skiprows=22, header=None)\n",
      "        data = np.hstack([raw_df.values[::2, :], raw_df.values[1::2, :2]])\n",
      "        target = raw_df.values[1::2, 2]\n",
      "\n",
      "    Alternative datasets include the California housing dataset (i.e.\n",
      "    :func:`~sklearn.datasets.fetch_california_housing`) and the Ames housing\n",
      "    dataset. You can load the datasets as follows::\n",
      "\n",
      "        from sklearn.datasets import fetch_california_housing\n",
      "        housing = fetch_california_housing()\n",
      "\n",
      "    for the California housing dataset and::\n",
      "\n",
      "        from sklearn.datasets import fetch_openml\n",
      "        housing = fetch_openml(name=\"house_prices\", as_frame=True)\n",
      "\n",
      "    for the Ames housing dataset.\n",
      "    \n",
      "  warnings.warn(msg, category=FutureWarning)\n"
     ]
    },
    {
     "name": "stdout",
     "output_type": "stream",
     "text": [
      "kernel에 따른 성능 비교\n",
      "----------------------------------------------\n",
      "linear 학습데이터 점수 : 0.6886583914240834\n",
      "linear 평가데이터 점수 : 0.772543063533414\n",
      "\n",
      "poly   학습데이터 점수 : 0.17799007580884785\n",
      "poly   평가데이터 점수 : 0.26461703121265145\n",
      "\n",
      "rbf    학습데이터 점수 : 0.17964669464989047\n",
      "rbf    평가데이터 점수 : 0.2749755336369746\n",
      "\n",
      "sigmoid학습데이터 점수 : 0.07641858597365148\n",
      "sigmoid평가데이터 점수 : 0.02969338534473487\n"
     ]
    }
   ],
   "source": [
    "X, y = load_boston(return_X_y=True)\n",
    "\n",
    "X_train, X_test, y_train, y_test = train_test_split(X, y, test_size=0.2, random_state=2)\n",
    "\n",
    "linear_svr = SVR(kernel='linear')\n",
    "linear_svr.fit(X_train, y_train)\n",
    "\n",
    "polynominal_svr = SVR(kernel='poly')\n",
    "polynominal_svr.fit(X_train, y_train)\n",
    "\n",
    "rbf = SVR(kernel='rbf')\n",
    "rbf.fit(X_train, y_train)\n",
    "\n",
    "sigmoid = SVR(kernel='sigmoid')\n",
    "sigmoid.fit(X_train, y_train)\n",
    "\n",
    "print('kernel에 따른 성능 비교\\n----------------------------------------------')\n",
    "print(f'linear 학습데이터 점수 : {linear_svr.score(X_train, y_train)}')\n",
    "print(f'linear 평가데이터 점수 : {linear_svr.score(X_test, y_test)}\\n')\n",
    "print(f'poly   학습데이터 점수 : {polynominal_svr.score(X_train, y_train)}')\n",
    "print(f'poly   평가데이터 점수 : {polynominal_svr.score(X_test, y_test)}\\n')\n",
    "print(f'rbf    학습데이터 점수 : {rbf.score(X_train, y_train)}')\n",
    "print(f'rbf    평가데이터 점수 : {rbf.score(X_test, y_test)}\\n')\n",
    "print(f'sigmoid학습데이터 점수 : {sigmoid.score(X_train, y_train)}')\n",
    "print(f'sigmoid평가데이터 점수 : {sigmoid.score(X_test, y_test)}')"
   ]
  },
  {
   "cell_type": "code",
   "execution_count": 152,
   "metadata": {},
   "outputs": [
    {
     "name": "stdout",
     "output_type": "stream",
     "text": [
      "kernel에 따른 성능 비교\n",
      "----------------------------------------------\n",
      "linear 학습데이터 점수 : 0.0004883271543026924\n",
      "linear 평가데이터 점수 : -0.04879771974546876\n",
      "\n",
      "poly   학습데이터 점수 : 0.2733365589318849\n",
      "poly   평가데이터 점수 : 0.26144846199662486\n",
      "\n",
      "rbf    학습데이터 점수 : 0.1864286814438485\n",
      "rbf    평가데이터 점수 : 0.08868974173233501\n",
      "\n",
      "sigmoid학습데이터 점수 : 0.37607170350597063\n",
      "sigmoid평가데이터 점수 : 0.326286850958199\n"
     ]
    }
   ],
   "source": [
    "X, y = load_diabetes(return_X_y=True)\n",
    "\n",
    "X_train, X_test, y_train, y_test = train_test_split(X, y, test_size=0.2, random_state=2)\n",
    "\n",
    "linear_svr = SVR(kernel='linear')\n",
    "linear_svr.fit(X_train, y_train)\n",
    "\n",
    "polynominal_svr = SVR(kernel='poly')\n",
    "polynominal_svr.fit(X_train, y_train)\n",
    "\n",
    "rbf = SVR(kernel='rbf')\n",
    "rbf.fit(X_train, y_train)\n",
    "\n",
    "sigmoid = SVR(kernel='sigmoid')\n",
    "sigmoid.fit(X_train, y_train)\n",
    "\n",
    "print('kernel에 따른 성능 비교\\n----------------------------------------------')\n",
    "print(f'linear 학습데이터 점수 : {linear_svr.score(X_train, y_train)}')\n",
    "print(f'linear 평가데이터 점수 : {linear_svr.score(X_test, y_test)}\\n')\n",
    "print(f'poly   학습데이터 점수 : {polynominal_svr.score(X_train, y_train)}')\n",
    "print(f'poly   평가데이터 점수 : {polynominal_svr.score(X_test, y_test)}\\n')\n",
    "print(f'rbf    학습데이터 점수 : {rbf.score(X_train, y_train)}')\n",
    "print(f'rbf    평가데이터 점수 : {rbf.score(X_test, y_test)}\\n')\n",
    "print(f'sigmoid학습데이터 점수 : {sigmoid.score(X_train, y_train)}')\n",
    "print(f'sigmoid평가데이터 점수 : {sigmoid.score(X_test, y_test)}')"
   ]
  },
  {
   "cell_type": "code",
   "execution_count": 153,
   "metadata": {},
   "outputs": [
    {
     "name": "stdout",
     "output_type": "stream",
     "text": [
      "kernel에 따른 성능 비교\n",
      "----------------------------------------------\n",
      "linear 학습데이터 점수 : 0.9692307692307692\n",
      "linear 평가데이터 점수 : 0.9473684210526315\n",
      "\n",
      "poly   학습데이터 점수 : 0.9186813186813186\n",
      "poly   평가데이터 점수 : 0.8947368421052632\n",
      "\n",
      "rbf    학습데이터 점수 : 0.9252747252747253\n",
      "rbf    평가데이터 점수 : 0.9035087719298246\n",
      "\n",
      "sigmoid학습데이터 점수 : 0.46593406593406594\n",
      "sigmoid평가데이터 점수 : 0.5\n"
     ]
    }
   ],
   "source": [
    "X, y = load_breast_cancer(return_X_y=True)\n",
    "\n",
    "X_train, X_test, y_train, y_test = train_test_split(X, y, test_size=0.2, random_state=2)\n",
    "\n",
    "linear_svc = SVC(kernel='linear')\n",
    "linear_svc.fit(X_train, y_train)\n",
    "\n",
    "polynominal_svr = SVC(kernel='poly')\n",
    "polynominal_svr.fit(X_train, y_train)\n",
    "\n",
    "rbf = SVC(kernel='rbf')\n",
    "rbf.fit(X_train, y_train)\n",
    "\n",
    "sigmoid = SVC(kernel='sigmoid')\n",
    "sigmoid.fit(X_train, y_train)\n",
    "\n",
    "print('kernel에 따른 성능 비교\\n----------------------------------------------')\n",
    "print(f'linear 학습데이터 점수 : {linear_svc.score(X_train, y_train)}')\n",
    "print(f'linear 평가데이터 점수 : {linear_svc.score(X_test, y_test)}\\n')\n",
    "print(f'poly   학습데이터 점수 : {polynominal_svr.score(X_train, y_train)}')\n",
    "print(f'poly   평가데이터 점수 : {polynominal_svr.score(X_test, y_test)}\\n')\n",
    "print(f'rbf    학습데이터 점수 : {rbf.score(X_train, y_train)}')\n",
    "print(f'rbf    평가데이터 점수 : {rbf.score(X_test, y_test)}\\n')\n",
    "print(f'sigmoid학습데이터 점수 : {sigmoid.score(X_train, y_train)}')\n",
    "print(f'sigmoid평가데이터 점수 : {sigmoid.score(X_test, y_test)}')"
   ]
  },
  {
   "cell_type": "code",
   "execution_count": 154,
   "metadata": {},
   "outputs": [
    {
     "name": "stdout",
     "output_type": "stream",
     "text": [
      "kernel에 따른 성능 비교\n",
      "----------------------------------------------\n",
      "linear 학습데이터 점수 : 0.9916666666666667\n",
      "linear 평가데이터 점수 : 1.0\n",
      "\n",
      "poly   학습데이터 점수 : 0.975\n",
      "poly   평가데이터 점수 : 0.9666666666666667\n",
      "\n",
      "rbf    학습데이터 점수 : 0.975\n",
      "rbf    평가데이터 점수 : 0.9666666666666667\n",
      "\n",
      "sigmoid학습데이터 점수 : 0.19166666666666668\n",
      "sigmoid평가데이터 점수 : 0.16666666666666666\n"
     ]
    }
   ],
   "source": [
    "X, y = load_iris(return_X_y=True)\n",
    "\n",
    "X_train, X_test, y_train, y_test = train_test_split(X, y, test_size=0.2, random_state=2)\n",
    "\n",
    "linear_svc = SVC(kernel='linear')\n",
    "linear_svc.fit(X_train, y_train)\n",
    "\n",
    "polynominal_svr = SVC(kernel='poly')\n",
    "polynominal_svr.fit(X_train, y_train)\n",
    "\n",
    "rbf = SVC(kernel='rbf')\n",
    "rbf.fit(X_train, y_train)\n",
    "\n",
    "sigmoid = SVC(kernel='sigmoid')\n",
    "sigmoid.fit(X_train, y_train)\n",
    "\n",
    "print('kernel에 따른 성능 비교\\n----------------------------------------------')\n",
    "print(f'linear 학습데이터 점수 : {linear_svc.score(X_train, y_train)}')\n",
    "print(f'linear 평가데이터 점수 : {linear_svc.score(X_test, y_test)}\\n')\n",
    "print(f'poly   학습데이터 점수 : {polynominal_svr.score(X_train, y_train)}')\n",
    "print(f'poly   평가데이터 점수 : {polynominal_svr.score(X_test, y_test)}\\n')\n",
    "print(f'rbf    학습데이터 점수 : {rbf.score(X_train, y_train)}')\n",
    "print(f'rbf    평가데이터 점수 : {rbf.score(X_test, y_test)}\\n')\n",
    "print(f'sigmoid학습데이터 점수 : {sigmoid.score(X_train, y_train)}')\n",
    "print(f'sigmoid평가데이터 점수 : {sigmoid.score(X_test, y_test)}')"
   ]
  },
  {
   "cell_type": "code",
   "execution_count": 161,
   "metadata": {},
   "outputs": [
    {
     "name": "stdout",
     "output_type": "stream",
     "text": [
      "MinMaxScaler로 정규화 후 kernel에 따른 성능 비교\n",
      "----------------------------------------------\n",
      "linear 학습데이터 점수 : 0.9929577464788732\n",
      "linear 평가데이터 점수 : 0.9722222222222222\n",
      "\n",
      "poly   학습데이터 점수 : 1.0\n",
      "poly   평가데이터 점수 : 0.9722222222222222\n",
      "\n",
      "rbf    학습데이터 점수 : 0.9929577464788732\n",
      "rbf    평가데이터 점수 : 0.9722222222222222\n",
      "\n",
      "sigmoid학습데이터 점수 : 0.4225352112676056\n",
      "sigmoid평가데이터 점수 : 0.25\n"
     ]
    }
   ],
   "source": [
    "X, y = load_wine(return_X_y=True)\n",
    "\n",
    "X_train, X_test, y_train, y_test = train_test_split(X, y, test_size=0.2, random_state=2)\n",
    "\n",
    "scaler = MinMaxScaler()\n",
    "X_train = scaler.fit_transform(X_train)\n",
    "X_test = scaler.transform(X_test)\n",
    "\n",
    "linear_svc = SVC(kernel='linear')\n",
    "linear_svc.fit(X_train, y_train)\n",
    "\n",
    "polynominal_svr = SVC(kernel='poly')\n",
    "polynominal_svr.fit(X_train, y_train)\n",
    "\n",
    "rbf = SVC(kernel='rbf')\n",
    "rbf.fit(X_train, y_train)\n",
    "\n",
    "sigmoid = SVC(kernel='sigmoid')\n",
    "sigmoid.fit(X_train, y_train)\n",
    "\n",
    "print('MinMaxScaler로 정규화 후 kernel에 따른 성능 비교\\n----------------------------------------------')\n",
    "print(f'linear 학습데이터 점수 : {linear_svc.score(X_train, y_train)}')\n",
    "print(f'linear 평가데이터 점수 : {linear_svc.score(X_test, y_test)}\\n')\n",
    "print(f'poly   학습데이터 점수 : {polynominal_svr.score(X_train, y_train)}')\n",
    "print(f'poly   평가데이터 점수 : {polynominal_svr.score(X_test, y_test)}\\n')\n",
    "print(f'rbf    학습데이터 점수 : {rbf.score(X_train, y_train)}')\n",
    "print(f'rbf    평가데이터 점수 : {rbf.score(X_test, y_test)}\\n')\n",
    "print(f'sigmoid학습데이터 점수 : {sigmoid.score(X_train, y_train)}')\n",
    "print(f'sigmoid평가데이터 점수 : {sigmoid.score(X_test, y_test)}')"
   ]
  },
  {
   "cell_type": "markdown",
   "metadata": {},
   "source": [
    "## 매개변수 튜닝\n",
    "+ SVM은 사용하는 커널에 따라 다양한 매개변수 설정 가능  \n",
    "    => 매개변수를 변경하면서 성능 변화를 관찰"
   ]
  },
  {
   "cell_type": "code",
   "execution_count": 73,
   "metadata": {},
   "outputs": [
    {
     "name": "stdout",
     "output_type": "stream",
     "text": [
      "학습데이터 점수 : 0.9186813186813186\n",
      "평가데이터 점수 : 0.8947368421052632\n",
      "\n",
      "학습데이터 점수 : 0.9714285714285714\n",
      "평가데이터 점수 : 0.9649122807017544\n",
      "\n",
      "학습데이터 점수 : 0.9252747252747253\n",
      "평가데이터 점수 : 0.9035087719298246\n"
     ]
    }
   ],
   "source": [
    "X, y = load_breast_cancer(return_X_y=True)\n",
    "\n",
    "X_train, X_test, y_train, y_test = train_test_split(X, y, test_size=0.2, random_state=2)\n",
    "\n",
    "polynominal_svc_1 = SVC(kernel='poly')\n",
    "polynominal_svc_1.fit(X_train, y_train)\n",
    "polynominal_svc_2 = SVC(kernel='poly', degree=2, C=0.1, gamma='auto')\n",
    "polynominal_svc_2.fit(X_train, y_train)\n",
    "polynominal_svc_3 = SVC(kernel='poly', degree=2, C=2.0, gamma='scale')\n",
    "polynominal_svc_3.fit(X_train, y_train)\n",
    "\n",
    "print(f'학습데이터 점수 : {polynominal_svc_1.score(X_train, y_train)}')\n",
    "print(f'평가데이터 점수 : {polynominal_svc_1.score(X_test, y_test)}\\n')\n",
    "print(f'학습데이터 점수 : {polynominal_svc_2.score(X_train, y_train)}')\n",
    "print(f'평가데이터 점수 : {polynominal_svc_2.score(X_test, y_test)}\\n')\n",
    "print(f'학습데이터 점수 : {polynominal_svc_3.score(X_train, y_train)}')\n",
    "print(f'평가데이터 점수 : {polynominal_svc_3.score(X_test, y_test)}')"
   ]
  },
  {
   "cell_type": "code",
   "execution_count": 74,
   "metadata": {},
   "outputs": [
    {
     "name": "stdout",
     "output_type": "stream",
     "text": [
      "학습데이터 점수 : 0.9252747252747253\n",
      "평가데이터 점수 : 0.9035087719298246\n",
      "\n",
      "학습데이터 점수 : 0.6329670329670329\n",
      "평가데이터 점수 : 0.6052631578947368\n",
      "\n",
      "학습데이터 점수 : 0.9252747252747253\n",
      "평가데이터 점수 : 0.9035087719298246\n"
     ]
    }
   ],
   "source": [
    "rbf_1 = SVC(kernel='rbf')\n",
    "rbf_1.fit(X_train, y_train)\n",
    "rbf_2 = SVC(kernel='rbf', degree=2, C=0.1, gamma='auto')\n",
    "rbf_2.fit(X_train, y_train)\n",
    "rbf_3 = SVC(kernel='rbf', degree=2, C=2.0, gamma='scale')\n",
    "rbf_3.fit(X_train, y_train)\n",
    "\n",
    "print(f'학습데이터 점수 : {rbf_1.score(X_train, y_train)}')\n",
    "print(f'평가데이터 점수 : {rbf_1.score(X_test, y_test)}\\n')\n",
    "print(f'학습데이터 점수 : {rbf_2.score(X_train, y_train)}')\n",
    "print(f'평가데이터 점수 : {rbf_2.score(X_test, y_test)}\\n')\n",
    "print(f'학습데이터 점수 : {rbf_3.score(X_train, y_train)}')\n",
    "print(f'평가데이터 점수 : {rbf_3.score(X_test, y_test)}')"
   ]
  },
  {
   "cell_type": "markdown",
   "metadata": {},
   "source": [
    "## Preprocessing\n",
    "+ SVM은 입력데이터가 정규화되어야 좋은 성능을 보임\n",
    "+ 주로 모든 특성 값을 0~1 범위로 맞추는 방법을 사용  \n",
    "    => scikit-learn의 StandardScaler 또는 MinMaxScaler를 사용해 정규화"
   ]
  },
  {
   "cell_type": "code",
   "execution_count": 115,
   "metadata": {},
   "outputs": [
    {
     "name": "stdout",
     "output_type": "stream",
     "text": [
      "StandardScaler로 정규화 후 kernel에 따른 성능 비교\n",
      "------------------------------------------------\n",
      "linear 학습데이터 점수 : 0.6890283405495305\n",
      "linear 평가데이터 점수 : 0.7802786321372277\n",
      "\n",
      "poly   학습데이터 점수 : 0.673900723332318\n",
      "poly   평가데이터 점수 : 0.731344688834457\n",
      "\n",
      "rbf    학습데이터 점수 : 0.6457713868658361\n",
      "rbf    평가데이터 점수 : 0.7577721268821178\n",
      "\n",
      "sigmoid학습데이터 점수 : 0.5519171249361043\n",
      "sigmoid평가데이터 점수 : 0.6475692469536805\n"
     ]
    },
    {
     "name": "stderr",
     "output_type": "stream",
     "text": [
      "C:\\Users\\yeonok\\AppData\\Local\\Packages\\PythonSoftwareFoundation.Python.3.9_qbz5n2kfra8p0\\LocalCache\\local-packages\\Python39\\site-packages\\sklearn\\utils\\deprecation.py:87: FutureWarning: Function load_boston is deprecated; `load_boston` is deprecated in 1.0 and will be removed in 1.2.\n",
      "\n",
      "    The Boston housing prices dataset has an ethical problem. You can refer to\n",
      "    the documentation of this function for further details.\n",
      "\n",
      "    The scikit-learn maintainers therefore strongly discourage the use of this\n",
      "    dataset unless the purpose of the code is to study and educate about\n",
      "    ethical issues in data science and machine learning.\n",
      "\n",
      "    In this special case, you can fetch the dataset from the original\n",
      "    source::\n",
      "\n",
      "        import pandas as pd\n",
      "        import numpy as np\n",
      "\n",
      "\n",
      "        data_url = \"http://lib.stat.cmu.edu/datasets/boston\"\n",
      "        raw_df = pd.read_csv(data_url, sep=\"\\s+\", skiprows=22, header=None)\n",
      "        data = np.hstack([raw_df.values[::2, :], raw_df.values[1::2, :2]])\n",
      "        target = raw_df.values[1::2, 2]\n",
      "\n",
      "    Alternative datasets include the California housing dataset (i.e.\n",
      "    :func:`~sklearn.datasets.fetch_california_housing`) and the Ames housing\n",
      "    dataset. You can load the datasets as follows::\n",
      "\n",
      "        from sklearn.datasets import fetch_california_housing\n",
      "        housing = fetch_california_housing()\n",
      "\n",
      "    for the California housing dataset and::\n",
      "\n",
      "        from sklearn.datasets import fetch_openml\n",
      "        housing = fetch_openml(name=\"house_prices\", as_frame=True)\n",
      "\n",
      "    for the Ames housing dataset.\n",
      "    \n",
      "  warnings.warn(msg, category=FutureWarning)\n"
     ]
    }
   ],
   "source": [
    "X, y = load_boston(return_X_y=True)\n",
    "\n",
    "X_train, X_test, y_train, y_test = train_test_split(X, y, test_size=0.2, random_state=2)\n",
    "\n",
    "scaler = StandardScaler()\n",
    "X_train = scaler.fit_transform(X_train)\n",
    "X_test = scaler.transform(X_test)\n",
    "\n",
    "linear_svr = SVR(kernel='linear')\n",
    "linear_svr.fit(X_train, y_train)\n",
    "\n",
    "polynominal_svr = SVR(kernel='poly')\n",
    "polynominal_svr.fit(X_train, y_train)\n",
    "\n",
    "rbf = SVR(kernel='rbf')\n",
    "rbf.fit(X_train, y_train)\n",
    "\n",
    "sigmoid = SVR(kernel='sigmoid')\n",
    "sigmoid.fit(X_train, y_train)\n",
    "\n",
    "print('StandardScaler로 정규화 후 kernel에 따른 성능 비교\\n------------------------------------------------')\n",
    "print(f'linear 학습데이터 점수 : {linear_svr.score(X_train, y_train)}')\n",
    "print(f'linear 평가데이터 점수 : {linear_svr.score(X_test, y_test)}\\n')\n",
    "print(f'poly   학습데이터 점수 : {polynominal_svr.score(X_train, y_train)}')\n",
    "print(f'poly   평가데이터 점수 : {polynominal_svr.score(X_test, y_test)}\\n')\n",
    "print(f'rbf    학습데이터 점수 : {rbf.score(X_train, y_train)}')\n",
    "print(f'rbf    평가데이터 점수 : {rbf.score(X_test, y_test)}\\n')\n",
    "print(f'sigmoid학습데이터 점수 : {sigmoid.score(X_train, y_train)}')\n",
    "print(f'sigmoid평가데이터 점수 : {sigmoid.score(X_test, y_test)}')"
   ]
  },
  {
   "cell_type": "code",
   "execution_count": 116,
   "metadata": {},
   "outputs": [
    {
     "name": "stdout",
     "output_type": "stream",
     "text": [
      "MinMaxScaler로 정규화 후 kernel에 따른 성능 비교\n",
      "------------------------------------------------\n",
      "linear 학습데이터 점수 : 0.5979847434533032\n",
      "linear 평가데이터 점수 : 0.6986629143689612\n",
      "\n",
      "poly   학습데이터 점수 : 0.8014812010144969\n",
      "poly   평가데이터 점수 : 0.8459779052053498\n",
      "\n",
      "rbf    학습데이터 점수 : 0.5795255560415795\n",
      "rbf    평가데이터 점수 : 0.6926026641432541\n",
      "\n",
      "sigmoid학습데이터 점수 : 0.18552304823578858\n",
      "sigmoid평가데이터 점수 : 0.18314653273666603\n"
     ]
    },
    {
     "name": "stderr",
     "output_type": "stream",
     "text": [
      "C:\\Users\\yeonok\\AppData\\Local\\Packages\\PythonSoftwareFoundation.Python.3.9_qbz5n2kfra8p0\\LocalCache\\local-packages\\Python39\\site-packages\\sklearn\\utils\\deprecation.py:87: FutureWarning: Function load_boston is deprecated; `load_boston` is deprecated in 1.0 and will be removed in 1.2.\n",
      "\n",
      "    The Boston housing prices dataset has an ethical problem. You can refer to\n",
      "    the documentation of this function for further details.\n",
      "\n",
      "    The scikit-learn maintainers therefore strongly discourage the use of this\n",
      "    dataset unless the purpose of the code is to study and educate about\n",
      "    ethical issues in data science and machine learning.\n",
      "\n",
      "    In this special case, you can fetch the dataset from the original\n",
      "    source::\n",
      "\n",
      "        import pandas as pd\n",
      "        import numpy as np\n",
      "\n",
      "\n",
      "        data_url = \"http://lib.stat.cmu.edu/datasets/boston\"\n",
      "        raw_df = pd.read_csv(data_url, sep=\"\\s+\", skiprows=22, header=None)\n",
      "        data = np.hstack([raw_df.values[::2, :], raw_df.values[1::2, :2]])\n",
      "        target = raw_df.values[1::2, 2]\n",
      "\n",
      "    Alternative datasets include the California housing dataset (i.e.\n",
      "    :func:`~sklearn.datasets.fetch_california_housing`) and the Ames housing\n",
      "    dataset. You can load the datasets as follows::\n",
      "\n",
      "        from sklearn.datasets import fetch_california_housing\n",
      "        housing = fetch_california_housing()\n",
      "\n",
      "    for the California housing dataset and::\n",
      "\n",
      "        from sklearn.datasets import fetch_openml\n",
      "        housing = fetch_openml(name=\"house_prices\", as_frame=True)\n",
      "\n",
      "    for the Ames housing dataset.\n",
      "    \n",
      "  warnings.warn(msg, category=FutureWarning)\n"
     ]
    }
   ],
   "source": [
    "X, y = load_boston(return_X_y=True)\n",
    "\n",
    "X_train, X_test, y_train, y_test = train_test_split(X, y, test_size=0.2, random_state=2)\n",
    "\n",
    "scaler = MinMaxScaler()\n",
    "X_train = scaler.fit_transform(X_train)\n",
    "X_test = scaler.transform(X_test)\n",
    "\n",
    "linear_svr = SVR(kernel='linear')\n",
    "linear_svr.fit(X_train, y_train)\n",
    "\n",
    "polynominal_svr = SVR(kernel='poly')\n",
    "polynominal_svr.fit(X_train, y_train)\n",
    "\n",
    "rbf = SVR(kernel='rbf')\n",
    "rbf.fit(X_train, y_train)\n",
    "\n",
    "sigmoid = SVR(kernel='sigmoid')\n",
    "sigmoid.fit(X_train, y_train)\n",
    "\n",
    "print('MinMaxScaler로 정규화 후 kernel에 따른 성능 비교\\n------------------------------------------------')\n",
    "print(f'linear 학습데이터 점수 : {linear_svr.score(X_train, y_train)}')\n",
    "print(f'linear 평가데이터 점수 : {linear_svr.score(X_test, y_test)}\\n')\n",
    "print(f'poly   학습데이터 점수 : {polynominal_svr.score(X_train, y_train)}')\n",
    "print(f'poly   평가데이터 점수 : {polynominal_svr.score(X_test, y_test)}\\n')\n",
    "print(f'rbf    학습데이터 점수 : {rbf.score(X_train, y_train)}')\n",
    "print(f'rbf    평가데이터 점수 : {rbf.score(X_test, y_test)}\\n')\n",
    "print(f'sigmoid학습데이터 점수 : {sigmoid.score(X_train, y_train)}')\n",
    "print(f'sigmoid평가데이터 점수 : {sigmoid.score(X_test, y_test)}')\n",
    "#poly일 때는 StandardScaler일 때보다 더 성능이 좋아짐"
   ]
  },
  {
   "cell_type": "code",
   "execution_count": 147,
   "metadata": {},
   "outputs": [
    {
     "name": "stdout",
     "output_type": "stream",
     "text": [
      "kernel의 매개변수에 따른 성능 비교\n",
      "------------------------------------------------\n",
      "poly   학습데이터 점수 : 0.8014812010144969\n",
      "poly   평가데이터 점수 : 0.8459779052053498\n",
      "\n",
      "poly2  학습데이터 점수 : 0.0179682224578821\n",
      "poly2  평가데이터 점수 : 0.015300383826670982\n",
      "\n",
      "poly3  학습데이터 점수 : -0.01722695372496097\n",
      "poly3  평가데이터 점수 : -0.03298521670274712\n",
      "\n",
      "poly4  학습데이터 점수 : 0.19374341233351955\n",
      "poly4  평가데이터 점수 : 0.25509968462259136\n",
      "\n",
      "poly5  학습데이터 점수 : 0.40896858384326584\n",
      "poly5  평가데이터 점수 : 0.4878451190945077\n",
      "\n",
      "poly6  학습데이터 점수 : 0.16494120240068355\n",
      "poly6  평가데이터 점수 : 0.21727162380861087\n",
      "\n",
      "poly7  학습데이터 점수 : 0.6930218287793882\n",
      "poly7  평가데이터 점수 : 0.7721104118439928\n",
      "\n",
      "best   학습데이터 점수 : 0.30715041484525496\n",
      "best   평가데이터 점수 : 0.3957674263569301\n"
     ]
    },
    {
     "name": "stderr",
     "output_type": "stream",
     "text": [
      "C:\\Users\\yeonok\\AppData\\Local\\Packages\\PythonSoftwareFoundation.Python.3.9_qbz5n2kfra8p0\\LocalCache\\local-packages\\Python39\\site-packages\\sklearn\\utils\\deprecation.py:87: FutureWarning: Function load_boston is deprecated; `load_boston` is deprecated in 1.0 and will be removed in 1.2.\n",
      "\n",
      "    The Boston housing prices dataset has an ethical problem. You can refer to\n",
      "    the documentation of this function for further details.\n",
      "\n",
      "    The scikit-learn maintainers therefore strongly discourage the use of this\n",
      "    dataset unless the purpose of the code is to study and educate about\n",
      "    ethical issues in data science and machine learning.\n",
      "\n",
      "    In this special case, you can fetch the dataset from the original\n",
      "    source::\n",
      "\n",
      "        import pandas as pd\n",
      "        import numpy as np\n",
      "\n",
      "\n",
      "        data_url = \"http://lib.stat.cmu.edu/datasets/boston\"\n",
      "        raw_df = pd.read_csv(data_url, sep=\"\\s+\", skiprows=22, header=None)\n",
      "        data = np.hstack([raw_df.values[::2, :], raw_df.values[1::2, :2]])\n",
      "        target = raw_df.values[1::2, 2]\n",
      "\n",
      "    Alternative datasets include the California housing dataset (i.e.\n",
      "    :func:`~sklearn.datasets.fetch_california_housing`) and the Ames housing\n",
      "    dataset. You can load the datasets as follows::\n",
      "\n",
      "        from sklearn.datasets import fetch_california_housing\n",
      "        housing = fetch_california_housing()\n",
      "\n",
      "    for the California housing dataset and::\n",
      "\n",
      "        from sklearn.datasets import fetch_openml\n",
      "        housing = fetch_openml(name=\"house_prices\", as_frame=True)\n",
      "\n",
      "    for the Ames housing dataset.\n",
      "    \n",
      "  warnings.warn(msg, category=FutureWarning)\n"
     ]
    }
   ],
   "source": [
    "X, y = load_boston(return_X_y=True)\n",
    "\n",
    "X_train, X_test, y_train, y_test = train_test_split(X, y, test_size=0.2, random_state=2)\n",
    "\n",
    "scaler = MinMaxScaler()\n",
    "X_train = scaler.fit_transform(X_train)\n",
    "X_test = scaler.transform(X_test)\n",
    "\n",
    "polynominal_svr = SVR(kernel='poly') \n",
    "poly_2 = SVR(kernel='poly', degree=2, C=0.1, gamma='auto')\n",
    "poly_3 = SVR(kernel='poly', degree=2, C=0.01, gamma='auto')\n",
    "poly_4 = SVR(kernel='poly', degree=2, C=1., gamma='auto')\n",
    "poly_5 = SVR(kernel='poly', degree=2, C=0.1, gamma='scale')\n",
    "poly_6 = SVR(kernel='poly', degree=2, C=0.01, gamma='scale')\n",
    "poly_7 = SVR(kernel='poly', degree=2, C=1., gamma='scale')\n",
    "best = SVR(C= 0.1, degree=1, epsilon=1, gamma='scale', kernel='linear')\n",
    "\n",
    "polynominal_svr.fit(X_train, y_train)\n",
    "poly_2.fit(X_train, y_train)\n",
    "poly_3.fit(X_train, y_train)\n",
    "poly_4.fit(X_train, y_train)\n",
    "poly_5.fit(X_train, y_train)\n",
    "poly_6.fit(X_train, y_train)\n",
    "poly_7.fit(X_train, y_train)\n",
    "best.fit(X_train, y_train)\n",
    "\n",
    "print('kernel의 매개변수에 따른 성능 비교\\n------------------------------------------------')\n",
    "print(f'poly   학습데이터 점수 : {polynominal_svr.score(X_train, y_train)}')\n",
    "print(f'poly   평가데이터 점수 : {polynominal_svr.score(X_test, y_test)}\\n')\n",
    "print(f'poly2  학습데이터 점수 : {poly_2.score(X_train, y_train)}')\n",
    "print(f'poly2  평가데이터 점수 : {poly_2.score(X_test, y_test)}\\n')\n",
    "print(f'poly3  학습데이터 점수 : {poly_3.score(X_train, y_train)}')\n",
    "print(f'poly3  평가데이터 점수 : {poly_3.score(X_test, y_test)}\\n')\n",
    "print(f'poly4  학습데이터 점수 : {poly_4.score(X_train, y_train)}')\n",
    "print(f'poly4  평가데이터 점수 : {poly_4.score(X_test, y_test)}\\n')\n",
    "print(f'poly5  학습데이터 점수 : {poly_5.score(X_train, y_train)}')\n",
    "print(f'poly5  평가데이터 점수 : {poly_5.score(X_test, y_test)}\\n')\n",
    "print(f'poly6  학습데이터 점수 : {poly_6.score(X_train, y_train)}')\n",
    "print(f'poly6  평가데이터 점수 : {poly_6.score(X_test, y_test)}\\n')\n",
    "print(f'poly7  학습데이터 점수 : {poly_7.score(X_train, y_train)}')\n",
    "print(f'poly7  평가데이터 점수 : {poly_7.score(X_test, y_test)}\\n')\n",
    "print(f'best   학습데이터 점수 : {best.score(X_train, y_train)}')\n",
    "print(f'best   평가데이터 점수 : {best.score(X_test, y_test)}')"
   ]
  },
  {
   "cell_type": "code",
   "execution_count": 140,
   "metadata": {},
   "outputs": [
    {
     "name": "stderr",
     "output_type": "stream",
     "text": [
      "C:\\Users\\yeonok\\AppData\\Local\\Packages\\PythonSoftwareFoundation.Python.3.9_qbz5n2kfra8p0\\LocalCache\\local-packages\\Python39\\site-packages\\sklearn\\manifold\\_t_sne.py:780: FutureWarning: The default initialization in TSNE will change from 'random' to 'pca' in 1.2.\n",
      "  warnings.warn(\n",
      "C:\\Users\\yeonok\\AppData\\Local\\Packages\\PythonSoftwareFoundation.Python.3.9_qbz5n2kfra8p0\\LocalCache\\local-packages\\Python39\\site-packages\\sklearn\\manifold\\_t_sne.py:790: FutureWarning: The default learning rate in TSNE will change from 200.0 to 'auto' in 1.2.\n",
      "  warnings.warn(\n"
     ]
    },
    {
     "data": {
      "image/png": "[encoded data removed]",
      "text/plain": [
       "<Figure size 432x288 with 1 Axes>"
      ]
     },
     "metadata": {},
     "output_type": "display_data"
    }
   ],
   "source": [
    "X_comp = TSNE(n_components=1).fit_transform(X)\n",
    "\n",
    "polynominal_svr.fit(X_comp, y)\n",
    "\n",
    "y_pred = polynominal_svr.predict(X_comp)\n",
    "plt.scatter(X_comp, y)\n",
    "plt.scatter(X_comp, y_pred, color='b');"
   ]
  },
  {
   "cell_type": "code",
   "execution_count": 149,
   "metadata": {},
   "outputs": [
    {
     "name": "stderr",
     "output_type": "stream",
     "text": [
      "[Parallel(n_jobs=16)]: Using backend LokyBackend with 16 concurrent workers.\n",
      "[Parallel(n_jobs=16)]: Done  10 out of  10 | elapsed:    0.0s finished\n"
     ]
    },
    {
     "name": "stdout",
     "output_type": "stream",
     "text": [
      "Fitting 10 folds for each of 1152 candidates, totalling 11520 fits\n",
      "best estimator : Pipeline(steps=[('scaler', StandardScaler()),\n",
      "                ('model', SVR(C=0.1, degree=1, epsilon=1, kernel='linear'))])\n",
      "best score : 0.3806728327128428\n",
      "best params : {'model__C': 0.1, 'model__degree': 1, 'model__epsilon': 1, 'model__gamma': 'scale', 'model__kernel': 'linear'}\n"
     ]
    },
    {
     "name": "stderr",
     "output_type": "stream",
     "text": [
      "C:\\Users\\yeonok\\AppData\\Local\\Packages\\PythonSoftwareFoundation.Python.3.9_qbz5n2kfra8p0\\LocalCache\\local-packages\\Python39\\site-packages\\sklearn\\model_selection\\_validation.py:372: FitFailedWarning: \n",
      "7920 fits failed out of a total of 11520.\n",
      "The score on these train-test partitions for these parameters will be set to nan.\n",
      "If these failures are not expected, you can try to debug them by setting error_score='raise'.\n",
      "\n",
      "Below are more details about the failures:\n",
      "--------------------------------------------------------------------------------\n",
      "1920 fits failed with the following error:\n",
      "Traceback (most recent call last):\n",
      "  File \"C:\\Users\\yeonok\\AppData\\Local\\Packages\\PythonSoftwareFoundation.Python.3.9_qbz5n2kfra8p0\\LocalCache\\local-packages\\Python39\\site-packages\\sklearn\\model_selection\\_validation.py\", line 681, in _fit_and_score\n",
      "    estimator.fit(X_train, y_train, **fit_params)\n",
      "  File \"C:\\Users\\yeonok\\AppData\\Local\\Packages\\PythonSoftwareFoundation.Python.3.9_qbz5n2kfra8p0\\LocalCache\\local-packages\\Python39\\site-packages\\sklearn\\pipeline.py\", line 394, in fit\n",
      "    self._final_estimator.fit(Xt, y, **fit_params_last_step)\n",
      "  File \"C:\\Users\\yeonok\\AppData\\Local\\Packages\\PythonSoftwareFoundation.Python.3.9_qbz5n2kfra8p0\\LocalCache\\local-packages\\Python39\\site-packages\\sklearn\\svm\\_base.py\", line 255, in fit\n",
      "    fit(X, y, sample_weight, solver_type, kernel, random_seed=seed)\n",
      "  File \"C:\\Users\\yeonok\\AppData\\Local\\Packages\\PythonSoftwareFoundation.Python.3.9_qbz5n2kfra8p0\\LocalCache\\local-packages\\Python39\\site-packages\\sklearn\\svm\\_base.py\", line 315, in _dense_fit\n",
      "    ) = libsvm.fit(\n",
      "  File \"sklearn\\svm\\_libsvm.pyx\", line 59, in sklearn.svm._libsvm.fit\n",
      "TypeError: an integer is required\n",
      "\n",
      "--------------------------------------------------------------------------------\n",
      "3200 fits failed with the following error:\n",
      "Traceback (most recent call last):\n",
      "  File \"C:\\Users\\yeonok\\AppData\\Local\\Packages\\PythonSoftwareFoundation.Python.3.9_qbz5n2kfra8p0\\LocalCache\\local-packages\\Python39\\site-packages\\sklearn\\model_selection\\_validation.py\", line 681, in _fit_and_score\n",
      "    estimator.fit(X_train, y_train, **fit_params)\n",
      "  File \"C:\\Users\\yeonok\\AppData\\Local\\Packages\\PythonSoftwareFoundation.Python.3.9_qbz5n2kfra8p0\\LocalCache\\local-packages\\Python39\\site-packages\\sklearn\\pipeline.py\", line 394, in fit\n",
      "    self._final_estimator.fit(Xt, y, **fit_params_last_step)\n",
      "  File \"C:\\Users\\yeonok\\AppData\\Local\\Packages\\PythonSoftwareFoundation.Python.3.9_qbz5n2kfra8p0\\LocalCache\\local-packages\\Python39\\site-packages\\sklearn\\svm\\_base.py\", line 255, in fit\n",
      "    fit(X, y, sample_weight, solver_type, kernel, random_seed=seed)\n",
      "  File \"C:\\Users\\yeonok\\AppData\\Local\\Packages\\PythonSoftwareFoundation.Python.3.9_qbz5n2kfra8p0\\LocalCache\\local-packages\\Python39\\site-packages\\sklearn\\svm\\_base.py\", line 315, in _dense_fit\n",
      "    ) = libsvm.fit(\n",
      "  File \"sklearn\\svm\\_libsvm.pyx\", line 60, in sklearn.svm._libsvm.fit\n",
      "TypeError: must be real number, not NoneType\n",
      "\n",
      "--------------------------------------------------------------------------------\n",
      "2800 fits failed with the following error:\n",
      "Traceback (most recent call last):\n",
      "  File \"C:\\Users\\yeonok\\AppData\\Local\\Packages\\PythonSoftwareFoundation.Python.3.9_qbz5n2kfra8p0\\LocalCache\\local-packages\\Python39\\site-packages\\sklearn\\model_selection\\_validation.py\", line 681, in _fit_and_score\n",
      "    estimator.fit(X_train, y_train, **fit_params)\n",
      "  File \"C:\\Users\\yeonok\\AppData\\Local\\Packages\\PythonSoftwareFoundation.Python.3.9_qbz5n2kfra8p0\\LocalCache\\local-packages\\Python39\\site-packages\\sklearn\\pipeline.py\", line 394, in fit\n",
      "    self._final_estimator.fit(Xt, y, **fit_params_last_step)\n",
      "  File \"C:\\Users\\yeonok\\AppData\\Local\\Packages\\PythonSoftwareFoundation.Python.3.9_qbz5n2kfra8p0\\LocalCache\\local-packages\\Python39\\site-packages\\sklearn\\svm\\_base.py\", line 255, in fit\n",
      "    fit(X, y, sample_weight, solver_type, kernel, random_seed=seed)\n",
      "  File \"C:\\Users\\yeonok\\AppData\\Local\\Packages\\PythonSoftwareFoundation.Python.3.9_qbz5n2kfra8p0\\LocalCache\\local-packages\\Python39\\site-packages\\sklearn\\svm\\_base.py\", line 315, in _dense_fit\n",
      "    ) = libsvm.fit(\n",
      "  File \"sklearn\\svm\\_libsvm.pyx\", line 61, in sklearn.svm._libsvm.fit\n",
      "TypeError: must be real number, not NoneType\n",
      "\n",
      "  warnings.warn(some_fits_failed_message, FitFailedWarning)\n",
      "C:\\Users\\yeonok\\AppData\\Local\\Packages\\PythonSoftwareFoundation.Python.3.9_qbz5n2kfra8p0\\LocalCache\\local-packages\\Python39\\site-packages\\sklearn\\model_selection\\_search.py:969: UserWarning: One or more of the test scores are non-finite: [        nan         nan         nan ... -1.57869489  0.17346838\n",
      " -0.43585213]\n",
      "  warnings.warn(\n"
     ]
    }
   ],
   "source": [
    "estimator = make_pipeline(StandardScaler(),\n",
    "                          SVR(kernel='linear'))\n",
    "\n",
    "cross_validate(estimator=estimator,\n",
    "               X=X, y=y,\n",
    "               cv=10,\n",
    "               n_jobs=multiprocessing.cpu_count(),\n",
    "               verbose=True)\n",
    "\n",
    "pipe = Pipeline([('scaler', StandardScaler()),\n",
    "                 ('model', SVR(kernel='linear'))])\n",
    "\n",
    "param_grid = [{'model__gamma':[None, 'scale', 'auto'],\n",
    "               'model__C':[None, 0.01, 0.1, 1],\n",
    "               'model__epsilon':[None, 0.01, 0.1, 1],\n",
    "               'model__kernel':['linear', 'poly', 'rbf', 'sigmoid'],\n",
    "               'model__degree':[None, 1, 2, 3, 4, 5]}]\n",
    "\n",
    "gs = GridSearchCV(estimator=pipe,\n",
    "                  param_grid=param_grid,\n",
    "                  n_jobs=multiprocessing.cpu_count(),\n",
    "                  cv=10,\n",
    "                  verbose=True,\n",
    "                  refit=True)\n",
    "\n",
    "gs.fit(X, y)\n",
    "\n",
    "print(f'best estimator : {gs.best_estimator_}')\n",
    "print(f'best score : {gs.best_score_}')\n",
    "print(f'best params : {gs.best_params_}')"
   ]
  },
  {
   "cell_type": "code",
   "execution_count": 134,
   "metadata": {},
   "outputs": [
    {
     "data": {
      "text/html": [
       "<div>\n",
       "<style scoped>\n",
       "    .dataframe tbody tr th:only-of-type {\n",
       "        vertical-align: middle;\n",
       "    }\n",
       "\n",
       "    .dataframe tbody tr th {\n",
       "        vertical-align: top;\n",
       "    }\n",
       "\n",
       "    .dataframe thead th {\n",
       "        text-align: right;\n",
       "    }\n",
       "</style>\n",
       "<table border=\"1\" class=\"dataframe\">\n",
       "  <thead>\n",
       "    <tr style=\"text-align: right;\">\n",
       "      <th></th>\n",
       "      <th>params</th>\n",
       "      <th>mean_test_score</th>\n",
       "      <th>rank_test_score</th>\n",
       "    </tr>\n",
       "  </thead>\n",
       "  <tbody>\n",
       "    <tr>\n",
       "      <th>40</th>\n",
       "      <td>{'model__C': 0.1, 'model__epsilon': 1, 'model_...</td>\n",
       "      <td>0.380673</td>\n",
       "      <td>1</td>\n",
       "    </tr>\n",
       "    <tr>\n",
       "      <th>44</th>\n",
       "      <td>{'model__C': 0.1, 'model__epsilon': 1, 'model_...</td>\n",
       "      <td>0.380673</td>\n",
       "      <td>1</td>\n",
       "    </tr>\n",
       "    <tr>\n",
       "      <th>32</th>\n",
       "      <td>{'model__C': 0.1, 'model__epsilon': 0.1, 'mode...</td>\n",
       "      <td>0.349922</td>\n",
       "      <td>3</td>\n",
       "    </tr>\n",
       "    <tr>\n",
       "      <th>36</th>\n",
       "      <td>{'model__C': 0.1, 'model__epsilon': 0.1, 'mode...</td>\n",
       "      <td>0.349922</td>\n",
       "      <td>3</td>\n",
       "    </tr>\n",
       "    <tr>\n",
       "      <th>28</th>\n",
       "      <td>{'model__C': 0.1, 'model__epsilon': 0.01, 'mod...</td>\n",
       "      <td>0.343132</td>\n",
       "      <td>5</td>\n",
       "    </tr>\n",
       "  </tbody>\n",
       "</table>\n",
       "</div>"
      ],
      "text/plain": [
       "                                               params  mean_test_score  \\\n",
       "40  {'model__C': 0.1, 'model__epsilon': 1, 'model_...         0.380673   \n",
       "44  {'model__C': 0.1, 'model__epsilon': 1, 'model_...         0.380673   \n",
       "32  {'model__C': 0.1, 'model__epsilon': 0.1, 'mode...         0.349922   \n",
       "36  {'model__C': 0.1, 'model__epsilon': 0.1, 'mode...         0.349922   \n",
       "28  {'model__C': 0.1, 'model__epsilon': 0.01, 'mod...         0.343132   \n",
       "\n",
       "    rank_test_score  \n",
       "40                1  \n",
       "44                1  \n",
       "32                3  \n",
       "36                3  \n",
       "28                5  "
      ]
     },
     "execution_count": 134,
     "metadata": {},
     "output_type": "execute_result"
    }
   ],
   "source": [
    "result = pd.DataFrame(gs.cv_results_)\n",
    "result.loc[:, ['params', 'mean_test_score', 'rank_test_score']].sort_values(by='rank_test_score').head()"
   ]
  },
  {
   "cell_type": "code",
   "execution_count": null,
   "metadata": {},
   "outputs": [],
   "source": []
  },
  {
   "cell_type": "code",
   "execution_count": 80,
   "metadata": {},
   "outputs": [
    {
     "name": "stdout",
     "output_type": "stream",
     "text": [
      "학습데이터 점수 : 0.5182303904136566\n",
      "평가데이터 점수 : 0.44147492547498335\n",
      "\n",
      "학습데이터 점수 : 0.27349273198529855\n",
      "평가데이터 점수 : 0.2653560978169849\n",
      "\n",
      "학습데이터 점수 : 0.18641163610180778\n",
      "평가데이터 점수 : 0.08836597213991104\n"
     ]
    }
   ],
   "source": [
    "X, y = load_diabetes(return_X_y=True)\n",
    "\n",
    "X_train, X_test, y_train, y_test = train_test_split(X, y, test_size=0.2, random_state=2)\n",
    "\n",
    "scaler = StandardScaler()\n",
    "X_train = scaler.fit_transform(X_train)\n",
    "X_test = scaler.transform(X_test)\n",
    "\n",
    "linear_svr = SVR(kernel='linear')\n",
    "linear_svr.fit(X_train, y_train)\n",
    "polynominal_svr = SVR(kernel='poly')\n",
    "polynominal_svr.fit(X_train, y_train)\n",
    "rbf = SVR(kernel='rbf')\n",
    "rbf.fit(X_train, y_train)\n",
    "\n",
    "print(f'학습데이터 점수 : {linear_svr.score(X_train, y_train)}')\n",
    "print(f'평가데이터 점수 : {linear_svr.score(X_test, y_test)}\\n')\n",
    "print(f'학습데이터 점수 : {polynominal_svr.score(X_train, y_train)}')\n",
    "print(f'평가데이터 점수 : {polynominal_svr.score(X_test, y_test)}\\n')\n",
    "print(f'학습데이터 점수 : {rbf.score(X_train, y_train)}')\n",
    "print(f'평가데이터 점수 : {rbf.score(X_test, y_test)}')"
   ]
  },
  {
   "cell_type": "code",
   "execution_count": 84,
   "metadata": {},
   "outputs": [
    {
     "name": "stderr",
     "output_type": "stream",
     "text": [
      "C:\\Users\\yeonok\\AppData\\Local\\Packages\\PythonSoftwareFoundation.Python.3.9_qbz5n2kfra8p0\\LocalCache\\local-packages\\Python39\\site-packages\\sklearn\\manifold\\_t_sne.py:780: FutureWarning: The default initialization in TSNE will change from 'random' to 'pca' in 1.2.\n",
      "  warnings.warn(\n",
      "C:\\Users\\yeonok\\AppData\\Local\\Packages\\PythonSoftwareFoundation.Python.3.9_qbz5n2kfra8p0\\LocalCache\\local-packages\\Python39\\site-packages\\sklearn\\manifold\\_t_sne.py:790: FutureWarning: The default learning rate in TSNE will change from 200.0 to 'auto' in 1.2.\n",
      "  warnings.warn(\n"
     ]
    },
    {
     "data": {
      "image/png": "[encoded data removed]",
      "text/plain": [
       "<Figure size 432x288 with 1 Axes>"
      ]
     },
     "metadata": {},
     "output_type": "display_data"
    }
   ],
   "source": [
    "X_comp = TSNE(n_components=1).fit_transform(X)\n",
    "\n",
    "linear_svr.fit(X_comp, y)\n",
    "\n",
    "y_pred = linear_svr.predict(X_comp)\n",
    "plt.scatter(X_comp, y)\n",
    "plt.scatter(X_comp, y_pred, color='b');"
   ]
  },
  {
   "cell_type": "code",
   "execution_count": 135,
   "metadata": {},
   "outputs": [
    {
     "name": "stderr",
     "output_type": "stream",
     "text": [
      "[Parallel(n_jobs=16)]: Using backend LokyBackend with 16 concurrent workers.\n",
      "[Parallel(n_jobs=16)]: Done  10 out of  10 | elapsed:    0.0s finished\n"
     ]
    },
    {
     "name": "stdout",
     "output_type": "stream",
     "text": [
      "Fitting 10 folds for each of 18 candidates, totalling 180 fits\n",
      "best estimator : Pipeline(steps=[('scaler', StandardScaler()),\n",
      "                ('model', SVR(C=0.1, epsilon=1, kernel='linear'))])\n",
      "best score : 0.3806728327128428\n",
      "best params : {'model__C': 0.1, 'model__epsilon': 1, 'model__gamma': 'scale'}\n"
     ]
    }
   ],
   "source": [
    "estimator = make_pipeline(StandardScaler(),\n",
    "                          SVR(kernel='linear'))\n",
    "\n",
    "cross_validate(estimator=estimator,\n",
    "               X=X, y=y,\n",
    "               cv=10,\n",
    "               n_jobs=multiprocessing.cpu_count(),\n",
    "               verbose=True)\n",
    "\n",
    "pipe = Pipeline([('scaler', StandardScaler()),\n",
    "                 ('model', SVR(kernel='linear'))])\n",
    "\n",
    "param_grid = [{'model__gamma':['scale', 'auto'],\n",
    "               'model__C':[0.01, 0.1, 1],\n",
    "               'model__epsilon':[0.01, 0.1, 1]}]\n",
    "\n",
    "gs = GridSearchCV(estimator=pipe,\n",
    "                  param_grid=param_grid,\n",
    "                  n_jobs=multiprocessing.cpu_count(),\n",
    "                  cv=10,\n",
    "                  verbose=True)\n",
    "\n",
    "gs.fit(X, y)\n",
    "\n",
    "print(f'best estimator : {gs.best_estimator_}')\n",
    "print(f'best score : {gs.best_score_}')\n",
    "print(f'best params : {gs.best_params_}')"
   ]
  },
  {
   "cell_type": "code",
   "execution_count": null,
   "metadata": {},
   "outputs": [],
   "source": []
  },
  {
   "cell_type": "code",
   "execution_count": null,
   "metadata": {},
   "outputs": [
    {
     "name": "stdout",
     "output_type": "stream",
     "text": [
      "학습데이터 점수 : 0.6890283405495305\n",
      "평가데이터 점수 : 0.7802786321372277\n",
      "\n",
      "학습데이터 점수 : 0.673900723332318\n",
      "평가데이터 점수 : 0.731344688834457\n",
      "\n",
      "학습데이터 점수 : 0.6457713868658361\n",
      "평가데이터 점수 : 0.7577721268821178\n"
     ]
    },
    {
     "name": "stderr",
     "output_type": "stream",
     "text": [
      "C:\\Users\\yeonok\\AppData\\Local\\Packages\\PythonSoftwareFoundation.Python.3.9_qbz5n2kfra8p0\\LocalCache\\local-packages\\Python39\\site-packages\\sklearn\\utils\\deprecation.py:87: FutureWarning: Function load_boston is deprecated; `load_boston` is deprecated in 1.0 and will be removed in 1.2.\n",
      "\n",
      "    The Boston housing prices dataset has an ethical problem. You can refer to\n",
      "    the documentation of this function for further details.\n",
      "\n",
      "    The scikit-learn maintainers therefore strongly discourage the use of this\n",
      "    dataset unless the purpose of the code is to study and educate about\n",
      "    ethical issues in data science and machine learning.\n",
      "\n",
      "    In this special case, you can fetch the dataset from the original\n",
      "    source::\n",
      "\n",
      "        import pandas as pd\n",
      "        import numpy as np\n",
      "\n",
      "\n",
      "        data_url = \"http://lib.stat.cmu.edu/datasets/boston\"\n",
      "        raw_df = pd.read_csv(data_url, sep=\"\\s+\", skiprows=22, header=None)\n",
      "        data = np.hstack([raw_df.values[::2, :], raw_df.values[1::2, :2]])\n",
      "        target = raw_df.values[1::2, 2]\n",
      "\n",
      "    Alternative datasets include the California housing dataset (i.e.\n",
      "    :func:`~sklearn.datasets.fetch_california_housing`) and the Ames housing\n",
      "    dataset. You can load the datasets as follows::\n",
      "\n",
      "        from sklearn.datasets import fetch_california_housing\n",
      "        housing = fetch_california_housing()\n",
      "\n",
      "    for the California housing dataset and::\n",
      "\n",
      "        from sklearn.datasets import fetch_openml\n",
      "        housing = fetch_openml(name=\"house_prices\", as_frame=True)\n",
      "\n",
      "    for the Ames housing dataset.\n",
      "    \n",
      "  warnings.warn(msg, category=FutureWarning)\n"
     ]
    }
   ],
   "source": [
    "X, y = load_boston(return_X_y=True)\n",
    "\n",
    "X_train, X_test, y_train, y_test = train_test_split(X, y, test_size=0.2, random_state=2)\n",
    "\n",
    "scaler = StandardScaler()\n",
    "X_train = scaler.fit_transform(X_train)\n",
    "X_test = scaler.transform(X_test)\n",
    "\n",
    "linear_svr = SVR(kernel='linear')\n",
    "linear_svr.fit(X_train, y_train)\n",
    "polynominal_svr = SVR(kernel='poly')\n",
    "polynominal_svr.fit(X_train, y_train)\n",
    "rbf = SVR(kernel='rbf')\n",
    "rbf.fit(X_train, y_train)\n",
    "\n",
    "print(f'학습데이터 점수 : {linear_svr.score(X_train, y_train)}')\n",
    "print(f'평가데이터 점수 : {linear_svr.score(X_test, y_test)}\\n')\n",
    "print(f'학습데이터 점수 : {polynominal_svr.score(X_train, y_train)}')\n",
    "print(f'평가데이터 점수 : {polynominal_svr.score(X_test, y_test)}\\n')\n",
    "print(f'학습데이터 점수 : {rbf.score(X_train, y_train)}')\n",
    "print(f'평가데이터 점수 : {rbf.score(X_test, y_test)}')"
   ]
  },
  {
   "cell_type": "code",
   "execution_count": null,
   "metadata": {},
   "outputs": [
    {
     "data": {
      "image/png": "[encoded data removed]",
      "text/plain": [
       "<Figure size 432x288 with 1 Axes>"
      ]
     },
     "metadata": {},
     "output_type": "display_data"
    }
   ],
   "source": [
    "linear_svr.fit(X_comp, y)\n",
    "\n",
    "y_pred = linear_svr.predict(X_comp)\n",
    "plt.scatter(X_comp, y)\n",
    "plt.scatter(X_comp, y_pred, color='b');"
   ]
  },
  {
   "cell_type": "code",
   "execution_count": null,
   "metadata": {},
   "outputs": [
    {
     "data": {
      "image/png": "[encoded data removed]",
      "text/plain": [
       "<Figure size 432x288 with 1 Axes>"
      ]
     },
     "metadata": {},
     "output_type": "display_data"
    }
   ],
   "source": [
    "polynominal_svr.fit(X_comp, y)\n",
    "\n",
    "y_pred = polynominal_svr.predict(X_comp)\n",
    "plt.scatter(X_comp, y)\n",
    "plt.scatter(X_comp, y_pred, color='b');"
   ]
  },
  {
   "cell_type": "code",
   "execution_count": null,
   "metadata": {},
   "outputs": [
    {
     "data": {
      "image/png": "[encoded data removed]",
      "text/plain": [
       "<Figure size 432x288 with 1 Axes>"
      ]
     },
     "metadata": {},
     "output_type": "display_data"
    }
   ],
   "source": [
    "rbf.fit(X_comp, y)\n",
    "\n",
    "y_pred = rbf.predict(X_comp)\n",
    "plt.scatter(X_comp, y)\n",
    "plt.scatter(X_comp, y_pred, color='b');"
   ]
  },
  {
   "cell_type": "code",
   "execution_count": 82,
   "metadata": {},
   "outputs": [
    {
     "name": "stderr",
     "output_type": "stream",
     "text": [
      "[Parallel(n_jobs=16)]: Using backend LokyBackend with 16 concurrent workers.\n",
      "[Parallel(n_jobs=16)]: Done  10 out of  10 | elapsed:    0.0s finished\n"
     ]
    },
    {
     "name": "stdout",
     "output_type": "stream",
     "text": [
      "Fitting 10 folds for each of 72 candidates, totalling 720 fits\n",
      "best estimator : Pipeline(steps=[('scaler', StandardScaler()),\n",
      "                ('model', SVR(C=1, kernel='linear'))])\n",
      "best score : 0.464554680689368\n",
      "best params : {'model__C': 1, 'model__epsilon': 0.1, 'model__gamma': 'scale', 'model__kernel': 'linear'}\n"
     ]
    }
   ],
   "source": [
    "estimator = make_pipeline(StandardScaler(),\n",
    "                          SVR(kernel='linear'))\n",
    "\n",
    "cross_validate(estimator=estimator,\n",
    "               X=X, y=y,\n",
    "               cv=10,\n",
    "               n_jobs=multiprocessing.cpu_count(),\n",
    "               verbose=True)\n",
    "\n",
    "pipe = Pipeline([('scaler', StandardScaler()),\n",
    "                 ('model', SVR(kernel='linear'))])\n",
    "\n",
    "param_grid = [{'model__gamma':['scale', 'auto'],\n",
    "               'model__C':[0.01, 0.1, 1],\n",
    "               'model__epsilon':[0.01, 0.1, 1],\n",
    "               'model__kernel':['linear', 'rbf', 'poly', 'sigmoid']}]\n",
    "\n",
    "gs = GridSearchCV(estimator=pipe,\n",
    "                  param_grid=param_grid,\n",
    "                  n_jobs=multiprocessing.cpu_count(),\n",
    "                  cv=10,\n",
    "                  verbose=True)\n",
    "\n",
    "gs.fit(X, y)\n",
    "\n",
    "print(f'best estimator : {gs.best_estimator_}')\n",
    "print(f'best score : {gs.best_score_}')\n",
    "print(f'best params : {gs.best_params_}')"
   ]
  },
  {
   "cell_type": "code",
   "execution_count": null,
   "metadata": {},
   "outputs": [],
   "source": []
  },
  {
   "cell_type": "code",
   "execution_count": 162,
   "metadata": {},
   "outputs": [
    {
     "name": "stdout",
     "output_type": "stream",
     "text": [
      "학습데이터 점수 : 0.9929577464788732\n",
      "평가데이터 점수 : 0.9444444444444444\n"
     ]
    }
   ],
   "source": [
    "X, y = load_wine(return_X_y=True)\n",
    "\n",
    "X_train, X_test, y_train, y_test = train_test_split(X, y, test_size=0.2, random_state=2)\n",
    "\n",
    "scaler = StandardScaler()\n",
    "X_train = scaler.fit_transform(X_train)\n",
    "X_test = scaler.transform(X_test)\n",
    "\n",
    "model = SVC(kernel='rbf')\n",
    "model.fit(X_train, y_train)\n",
    "\n",
    "print(f'학습데이터 점수 : {model.score(X_train, y_train)}')\n",
    "print(f'평가데이터 점수 : {model.score(X_test, y_test)}')"
   ]
  },
  {
   "cell_type": "code",
   "execution_count": 166,
   "metadata": {},
   "outputs": [
    {
     "name": "stdout",
     "output_type": "stream",
     "text": [
      "Fitting 10 folds for each of 24 candidates, totalling 240 fits\n",
      "best estimator : Pipeline(steps=[('scaler', StandardScaler()),\n",
      "                ('model', SVC(C=0.01, kernel='linear'))])\n",
      "best score : 0.9777777777777779\n",
      "best params : {'model__C': 0.01, 'model__gamma': 'scale', 'model__kernel': 'linear'}\n"
     ]
    },
    {
     "name": "stderr",
     "output_type": "stream",
     "text": [
      "[Parallel(n_jobs=16)]: Using backend LokyBackend with 16 concurrent workers.\n",
      "[Parallel(n_jobs=16)]: Done  10 out of  10 | elapsed:    0.0s finished\n"
     ]
    }
   ],
   "source": [
    "estimator = make_pipeline(StandardScaler(),\n",
    "                          SVC(kernel='rbf'))\n",
    "\n",
    "cross_validate(estimator=estimator,\n",
    "               X=X, y=y,\n",
    "               cv=10,\n",
    "               n_jobs=multiprocessing.cpu_count(),\n",
    "               verbose=True)\n",
    "\n",
    "pipe = Pipeline([('scaler', StandardScaler()),\n",
    "                 ('model', SVC(kernel='rbf'))])\n",
    "\n",
    "param_grid = [{'model__gamma':['scale', 'auto'],\n",
    "               'model__C':[0.01, 0.1, 1],\n",
    "               'model__kernel':['linear', 'rbf', 'poly', 'sigmoid']}]\n",
    "\n",
    "gs = GridSearchCV(estimator=pipe,\n",
    "                  param_grid=param_grid,\n",
    "                  n_jobs=multiprocessing.cpu_count(),\n",
    "                  cv=10,\n",
    "                  verbose=True,\n",
    "                  refit=True)\n",
    "\n",
    "gs.fit(X, y)\n",
    "\n",
    "print(f'best estimator : {gs.best_estimator_}')\n",
    "print(f'best score : {gs.best_score_}')\n",
    "print(f'best params : {gs.best_params_}')"
   ]
  },
  {
   "cell_type": "code",
   "execution_count": 167,
   "metadata": {},
   "outputs": [],
   "source": [
    "def make_meshgrid(x, y, h=.02):\n",
    "    x_min, x_max = x.min()-1, x.max()+1\n",
    "    y_min, y_max = y.min()-1, y.max()+1\n",
    "    xx, yy = np.meshgrid(np.arange(x_min, x_max, h),\n",
    "                         np.arange(y_min, y_max, h))\n",
    "    return xx, yy\n",
    "\n",
    "def plot_contours(clf, xx, yy, **params):\n",
    "    Z = clf.predict(np.c_[xx.ravel(), yy.ravel()])\n",
    "    Z = Z.reshape(xx.shape)\n",
    "    out = plt.contourf(xx, yy, Z, **params)\n",
    "    return out"
   ]
  },
  {
   "cell_type": "code",
   "execution_count": 172,
   "metadata": {},
   "outputs": [
    {
     "data": {
      "text/plain": [
       "((178, 13), (178, 2))"
      ]
     },
     "execution_count": 172,
     "metadata": {},
     "output_type": "execute_result"
    }
   ],
   "source": [
    "X.shape, X_comp.shape"
   ]
  },
  {
   "cell_type": "code",
   "execution_count": 171,
   "metadata": {},
   "outputs": [
    {
     "name": "stderr",
     "output_type": "stream",
     "text": [
      "C:\\Users\\yeonok\\AppData\\Local\\Packages\\PythonSoftwareFoundation.Python.3.9_qbz5n2kfra8p0\\LocalCache\\local-packages\\Python39\\site-packages\\sklearn\\manifold\\_t_sne.py:780: FutureWarning: The default initialization in TSNE will change from 'random' to 'pca' in 1.2.\n",
      "  warnings.warn(\n",
      "C:\\Users\\yeonok\\AppData\\Local\\Packages\\PythonSoftwareFoundation.Python.3.9_qbz5n2kfra8p0\\LocalCache\\local-packages\\Python39\\site-packages\\sklearn\\manifold\\_t_sne.py:790: FutureWarning: The default learning rate in TSNE will change from 200.0 to 'auto' in 1.2.\n",
      "  warnings.warn(\n"
     ]
    },
    {
     "data": {
      "image/png": "[encoded data removed]",
      "text/plain": [
       "<Figure size 432x288 with 1 Axes>"
      ]
     },
     "metadata": {},
     "output_type": "display_data"
    }
   ],
   "source": [
    "X_comp = TSNE(n_components=2).fit_transform(X)\n",
    "X0, X1 = X_comp[:, 0], X_comp[:, 1]\n",
    "xx, yy = make_meshgrid(X0, X1)\n",
    "\n",
    "model.fit(X_comp, y)\n",
    "\n",
    "y_pred = model.predict(X_comp)\n",
    "\n",
    "plot_contours(model, xx, yy, cmap=plt.cm.coolwarm, alpha=0.7,)\n",
    "plt.scatter(X0, X1, c=y, cmap=plt.cm.coolwarm, s=20, edgecolors='k');"
   ]
  },
  {
   "cell_type": "code",
   "execution_count": 100,
   "metadata": {},
   "outputs": [
    {
     "name": "stderr",
     "output_type": "stream",
     "text": [
      "[Parallel(n_jobs=16)]: Using backend LokyBackend with 16 concurrent workers.\n",
      "[Parallel(n_jobs=16)]: Done  10 out of  10 | elapsed:    1.6s finished\n"
     ]
    },
    {
     "name": "stdout",
     "output_type": "stream",
     "text": [
      "Fitting 10 folds for each of 6 candidates, totalling 60 fits\n",
      "best estimator : Pipeline(steps=[('scaler', StandardScaler()),\n",
      "                ('model', SVC(C=0.01, kernel='linear'))])\n",
      "best score : 0.9777777777777779\n",
      "best params : {'model__C': 0.01, 'model__gamma': 'scale'}\n"
     ]
    }
   ],
   "source": [
    "estimator = make_pipeline(StandardScaler(),\n",
    "                          SVC(kernel='linear'))\n",
    "\n",
    "cross_validate(estimator=estimator,\n",
    "               X=X, y=y,\n",
    "               cv=10,\n",
    "               n_jobs=multiprocessing.cpu_count(),\n",
    "               verbose=True)\n",
    "\n",
    "pipe = Pipeline([('scaler', StandardScaler()),\n",
    "                 ('model', SVC(kernel='linear'))])\n",
    "\n",
    "param_grid = [{'model__gamma':['scale', 'auto'],\n",
    "               'model__C':[0.01, 0.1, 1]}]\n",
    "\n",
    "gs = GridSearchCV(estimator=pipe,\n",
    "                  param_grid=param_grid,\n",
    "                  n_jobs=multiprocessing.cpu_count(),\n",
    "                  cv=10,\n",
    "                  verbose=True)\n",
    "\n",
    "gs.fit(X, y)\n",
    "\n",
    "print(f'best estimator : {gs.best_estimator_}')\n",
    "print(f'best score : {gs.best_score_}')\n",
    "print(f'best params : {gs.best_params_}')"
   ]
  },
  {
   "cell_type": "code",
   "execution_count": null,
   "metadata": {},
   "outputs": [],
   "source": []
  }
 ],
 "metadata": {
  "interpreter": {
   "hash": "702ecc25bf156e14d9df9ef3a5fdc4b988629ca0f5ee3f8cd11ceb825b3b8a58"
  },
  "kernelspec": {
   "display_name": "Python 3.9.12 64-bit (windows store)",
   "language": "python",
   "name": "python3"
  },
  "language_info": {
   "codemirror_mode": {
    "name": "ipython",
    "version": 3
   },
   "file_extension": ".py",
   "mimetype": "text/x-python",
   "name": "python",
   "nbconvert_exporter": "python",
   "pygments_lexer": "ipython3",
   "version": "3.9.12"
  },
  "orig_nbformat": 4
 },
 "nbformat": 4,
 "nbformat_minor": 2
}
